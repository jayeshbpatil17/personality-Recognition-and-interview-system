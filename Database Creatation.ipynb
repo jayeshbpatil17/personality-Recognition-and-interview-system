{
 "cells": [
  {
   "cell_type": "markdown",
   "id": "2caed8ac",
   "metadata": {},
   "source": [
    "<h1>Testing Database connection</h1>\n",
    "Here Initial database connectivity will be tested and verified"
   ]
  },
  {
   "cell_type": "code",
   "execution_count": 1,
   "id": "796debd2",
   "metadata": {},
   "outputs": [
    {
     "name": "stdout",
     "output_type": "stream",
     "text": [
      "Database Version: 8.0.28-0ubuntu0.20.04.3\n"
     ]
    }
   ],
   "source": [
    "import pymysql;\n",
    "\n",
    "connection= pymysql.connect(host=\"localhost\",\n",
    "                       user=\"dev\",\n",
    "                       password=\"password\",\n",
    "                       db=\"pms\")\n",
    "cursor=connection.cursor()\n",
    "\n",
    "try:\n",
    "    cursor.execute(\"SELECT VERSION()\")\n",
    "    data=cursor.fetchone()\n",
    "    print(\"Database Version: %s\" %data);\n",
    "except Exception as e:\n",
    "    print(\"Exception \", e)\n",
    "    \n",
    "connection.close()"
   ]
  },
  {
   "cell_type": "markdown",
   "id": "44e16a22",
   "metadata": {},
   "source": [
    "<h1>Table Creation Procedures</h1>\n",
    "Here all the tables will be created for proper functioning of website."
   ]
  },
  {
   "cell_type": "code",
   "execution_count": 2,
   "id": "004cbc5f",
   "metadata": {},
   "outputs": [
    {
     "name": "stdout",
     "output_type": "stream",
     "text": [
      "Users table created successfully\n"
     ]
    }
   ],
   "source": [
    "import pymysql;\n",
    "\n",
    "conn=pymysql.connect(\n",
    "    host=\"localhost\",\n",
    "    user=\"dev\",\n",
    "    password=\"password\",\n",
    "    db=\"pms\")\n",
    "cursor=conn.cursor()\n",
    "\n",
    "try:\n",
    "    query=\"CREATE TABLE users(userId INT PRIMARY KEY NOT NULL AUTO_INCREMENT, userName varchar(50), userEmail varchar(50), password varchar(50))\"\n",
    "    cursor.execute(query)\n",
    "    print(\"Users table created successfully\")\n",
    "    data=cursor.fetchall()\n",
    "except Exception as e:\n",
    "    print(\"Exception\",e)\n",
    "\n",
    "conn.close()"
   ]
  },
  {
   "cell_type": "code",
   "execution_count": null,
   "id": "68bf8427",
   "metadata": {},
   "outputs": [],
   "source": [
    "CREATE TABLE recruiterInfo (\n",
    "    recruiterId int NOT NULL AUTO_INCREMENT,\n",
    "    companyName varchar(50) NOT NULL,\n",
    "    companyMail varchar(50),\n",
    "    password varchar(50),\n",
    "    PRIMARY KEY (recruiterId)\n",
    "); \n",
    "\n",
    "CREATE TABLE exams (\n",
    "    examId int NOT NULL ,\n",
    "    examName varchar(50),\n",
    "    noOfQuestions varchar(50),\n",
    "    noOfSubroles varchar(50),\n",
    "    PRIMARY KEY (examId)\n",
    "); \n",
    "\n",
    "CREATE TABLE questions (\n",
    "    qId int NOT NULL ,\n",
    "    testId int,\n",
    "    question varchar(255),\n",
    "    answer varchar(255),\n",
    "    PRIMARY KEY (qId)\n",
    "); \n",
    "\n",
    "\n",
    "CREATE TABLE subrole (\n",
    "    sId int NOT NULL AUTO_INCREMENT,\n",
    "    testId int,\n",
    "    designation varchar(255),\n",
    "    description varchar(255),\n",
    "    PRIMARY KEY (sId)\n",
    "); \n",
    "\n",
    "CREATE TABLE candidateAnswer (\n",
    "    srno int NOT NULL AUTO_INCREMENT,\n",
    "    sId int\n",
    "    testId int,\n",
    "    designation varchar(255),\n",
    "    description varchar(255),\n",
    "    PRIMARY KEY (sId)\n",
    "); \n",
    "\n",
    "\n",
    "CREATE TABLE studentResult (\n",
    "    recruiterId int NOT NULL AUTO_INCREMENT,\n",
    "    companyName varchar(50) NOT NULL,\n",
    "    companyMail varchar(50),\n",
    "    password varchar(50),\n",
    "    PRIMARY KEY (recruiterId)\n",
    "); "
   ]
  },
  {
   "cell_type": "code",
   "execution_count": null,
   "id": "53b954f4",
   "metadata": {},
   "outputs": [],
   "source": []
  }
 ],
 "metadata": {
  "kernelspec": {
   "display_name": "Python 3 (ipykernel)",
   "language": "python",
   "name": "python3"
  },
  "language_info": {
   "codemirror_mode": {
    "name": "ipython",
    "version": 3
   },
   "file_extension": ".py",
   "mimetype": "text/x-python",
   "name": "python",
   "nbconvert_exporter": "python",
   "pygments_lexer": "ipython3",
   "version": "3.8.10"
  }
 },
 "nbformat": 4,
 "nbformat_minor": 5
}
